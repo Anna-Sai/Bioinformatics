{
  "nbformat": 4,
  "nbformat_minor": 0,
  "metadata": {
    "colab": {
      "provenance": [],
      "mount_file_id": "1saFLmbSjqnsHoh6i8NDmDsGJFfglb-YW",
      "authorship_tag": "ABX9TyOuy5tvLTX6EvdWcVtbkmeq",
      "include_colab_link": true
    },
    "kernelspec": {
      "name": "python3",
      "display_name": "Python 3"
    },
    "language_info": {
      "name": "python"
    }
  },
  "cells": [
    {
      "cell_type": "markdown",
      "metadata": {
        "id": "view-in-github",
        "colab_type": "text"
      },
      "source": [
        "<a href=\"https://colab.research.google.com/github/Sannav161/Bioinformatics/blob/master/naive_with_rc.ipynb\" target=\"_parent\"><img src=\"https://colab.research.google.com/assets/colab-badge.svg\" alt=\"Open In Colab\"/></a>"
      ]
    },
    {
      "cell_type": "code",
      "source": [
        "# returns reverse complement of DNA\n",
        "def reverseComplement(s):\n",
        "    complement = {'A': 'T', 'C': 'G', 'G': 'C', 'T': 'A', 'N': 'N'}\n",
        "    t = ''\n",
        "    for base in s:\n",
        "        t = complement[base] + t\n",
        "    return t\n",
        "\n",
        "\n",
        "# naive exact matching algorithm\n",
        "# Returns a list of occurrences (offset)\n",
        "def naive(p, t):\n",
        "    occurrences = []\n",
        "    for i in range(len(t) - len(p) + 1):  # loop over alignments\n",
        "        match = True\n",
        "        for j in range(len(p)):  # loop over characters\n",
        "            if t[i+j] != p[j]:  # compare characters\n",
        "                match = False\n",
        "                break\n",
        "        if match:\n",
        "            occurrences.append(i)  # all chars matched; record\n",
        "    return occurrences\n",
        "\n",
        "# naive exact matching algorithm that is strand-aware\n",
        "# Instead of looking only for occurrences of P in T, additionally look for occurrences of the reverse complement of P in T. \n",
        "def naive_with_rc(p, t):\n",
        "\tr = reverseComplement(p)\n",
        "\tif r == p:\n",
        "\t\treturn naive(p,t)\n",
        "\telse:\n",
        "\t\treturn naive(p,t) + naive(r,t)"
      ],
      "metadata": {
        "id": "Tk4M4tgLLT9g"
      },
      "execution_count": null,
      "outputs": []
    },
    {
      "cell_type": "code",
      "source": [
        "def readGenome(filename):\n",
        "    genome = ''\n",
        "    with open(filename, 'r') as f:\n",
        "        for line in f:\n",
        "            # ignore header line with genome information\n",
        "            if not line[0] == '>':\n",
        "                genome += line.rstrip()\n",
        "    return genome"
      ],
      "metadata": {
        "id": "YqDjwUc3L9oC"
      },
      "execution_count": null,
      "outputs": []
    },
    {
      "cell_type": "code",
      "source": [
        "t = readGenome('lambda_virus.fa')"
      ],
      "metadata": {
        "id": "RTLsB3DZMOc0"
      },
      "execution_count": null,
      "outputs": []
    },
    {
      "cell_type": "code",
      "source": [
        "p = 'AGTCGA'\n",
        "occurrences = naive_with_rc(p, t)\n",
        "print('offset of leftmost occurrence: %d' % min(occurrences))\n",
        "print(occurrences)\n",
        "a = len(occurrences)\n",
        "print(a)\n",
        "\n",
        "print('# occurrences: %d' % len(occurrences))"
      ],
      "metadata": {
        "colab": {
          "base_uri": "https://localhost:8080/"
        },
        "id": "MhUxpq_KMSS2",
        "outputId": "02cafac5-512a-48c3-ef38-97e66c713c2a"
      },
      "execution_count": null,
      "outputs": [
        {
          "output_type": "stream",
          "name": "stdout",
          "text": [
            "offset of leftmost occurrence: 450\n",
            "[18005, 23320, 33657, 44806, 450, 1908, 2472, 41927, 45369]\n",
            "9\n",
            "# occurrences: 9\n"
          ]
        }
      ]
    },
    {
      "cell_type": "code",
      "source": [
        "def naive_2mm(p, t):\n",
        "    occurrences = []\n",
        "    for i in range(len(t) - len(p) + 1):  # loop over alignments\n",
        "        match = True\n",
        "        mismatch_count = 0\n",
        "        for j in range(len(p)):  # loop over characters\n",
        "            if t[i+j] != p[j]:  # compare characters\n",
        "                mismatch_count+=1\n",
        "\n",
        "                if mismatch_count > 2:\n",
        "                \tmatch = False\n",
        "                \tbreak\n",
        "        if match:\n",
        "            occurrences.append(i)  # all chars matched; record\n",
        "    return occurrences"
      ],
      "metadata": {
        "id": "hUT4L2CrNer9"
      },
      "execution_count": null,
      "outputs": []
    },
    {
      "cell_type": "code",
      "source": [
        "occurrences = naive_2mm('TTCAAGCC', t)\n",
        "print('TTCAAGCC (up to 2 mismatches) in lambda_virus:')\n",
        "print('# occurrences: %d' % len(occurrences))"
      ],
      "metadata": {
        "colab": {
          "base_uri": "https://localhost:8080/"
        },
        "id": "J6IshJTjOBDa",
        "outputId": "ac7231b0-c47f-4f9b-ddf1-01e43147b96d"
      },
      "execution_count": null,
      "outputs": [
        {
          "output_type": "stream",
          "name": "stdout",
          "text": [
            "TTCAAGCC (up to 2 mismatches) in lambda_virus:\n",
            "# occurrences: 191\n"
          ]
        }
      ]
    },
    {
      "cell_type": "code",
      "source": [
        "occurrences = naive_2mm('AGGAGGTT',t)\n",
        "print('AGGAGGTT (up to 2 mismatches) in lambda_virus:')\n",
        "print('offset of leftmost occurrence: %d' % min(occurrences))"
      ],
      "metadata": {
        "colab": {
          "base_uri": "https://localhost:8080/"
        },
        "id": "prRqvYtJOKAz",
        "outputId": "cc02755e-6891-4248-d477-a32f7663e6ea"
      },
      "execution_count": null,
      "outputs": [
        {
          "output_type": "stream",
          "name": "stdout",
          "text": [
            "AGGAGGTT (up to 2 mismatches) in lambda_virus:\n",
            "offset of leftmost occurrence: 49\n"
          ]
        }
      ]
    }
  ]
}